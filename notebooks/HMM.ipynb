{
 "cells": [
  {
   "cell_type": "code",
   "execution_count": 31,
   "metadata": {},
   "outputs": [],
   "source": [
    "import pandas as pd\n",
    "import numpy as np\n",
    "import hmmlearn \n",
    "from hmmlearn import hmm\n",
    "import ast\n",
    "from sklearn.model_selection import train_test_split\n",
    "\n",
    "data = pd.read_csv('/Users/ancadragulescu/Desktop/Phys160/promoter_gene_sequence/pgs8.csv')"
   ]
  },
  {
   "cell_type": "code",
   "execution_count": 32,
   "metadata": {},
   "outputs": [
    {
     "name": "stdout",
     "output_type": "stream",
     "text": [
      "score =  -1194.219474011449\n"
     ]
    }
   ],
   "source": [
    "sample_list = [np.array(ast.literal_eval(x)) for x in data['sequence']]\n",
    "X = np.concatenate(sample_list).reshape(-1, 1)\n",
    "lengths = [len(seq) for seq in sample_list]\n",
    "\n",
    "model = hmm.MultinomialHMM(n_components=4, n_iter=100)\n",
    "model.fit(X)\n",
    "log_likelihood = model.score(X, lengths = lengths)\n",
    "print('score = ', log_likelihood)"
   ]
  },
  {
   "cell_type": "code",
   "execution_count": 33,
   "metadata": {},
   "outputs": [
    {
     "name": "stdout",
     "output_type": "stream",
     "text": [
      "-443.10182165585616\n"
     ]
    }
   ],
   "source": [
    "#calculating p_data\n",
    "batch, rest = train_test_split(data, test_size=0.1, random_state=0)\n",
    "N = 100000\n",
    "log_p_data = 0\n",
    "simulated_data = data.sample(n=N, replace=True, random_state=0)\n",
    "\n",
    "for s in batch['sequence']:\n",
    "    p_sample = simulated_data['sequence'].value_counts()[s] / N\n",
    "    log_p_data += np.log(p_sample)\n",
    "    \n",
    "print(log_p_data)"
   ]
  },
  {
   "cell_type": "code",
   "execution_count": 35,
   "metadata": {},
   "outputs": [
    {
     "name": "stdout",
     "output_type": "stream",
     "text": [
      "D_KL =  751.1176523555928\n"
     ]
    }
   ],
   "source": [
    "D_KL = -log_likelihood + log_p_data + np.exp(log_p_data)\n",
    "print (\"D_KL = \", D_KL)"
   ]
  },
  {
   "cell_type": "code",
   "execution_count": null,
   "metadata": {},
   "outputs": [],
   "source": []
  }
 ],
 "metadata": {
  "kernelspec": {
   "display_name": "Python 3",
   "language": "python",
   "name": "python3"
  },
  "language_info": {
   "codemirror_mode": {
    "name": "ipython",
    "version": 3
   },
   "file_extension": ".py",
   "mimetype": "text/x-python",
   "name": "python",
   "nbconvert_exporter": "python",
   "pygments_lexer": "ipython3",
   "version": "3.8.3"
  }
 },
 "nbformat": 4,
 "nbformat_minor": 5
}
