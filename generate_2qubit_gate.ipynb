{
 "cells": [
  {
   "cell_type": "code",
   "execution_count": 1,
   "metadata": {},
   "outputs": [],
   "source": [
    "from qiskit import QuantumCircuit, QuantumRegister, ClassicalRegister\n",
    "from qiskit.circuit.library import MCMT\n",
    "import numpy as np\n",
    "from scipy.stats import unitary_group\n",
    "from qiskit.quantum_info import Statevector\n",
    "from qiskit.extensions.unitary import UnitaryGate\n",
    "from qiskit.converters import circuit_to_gate"
   ]
  },
  {
   "cell_type": "code",
   "execution_count": 79,
   "metadata": {},
   "outputs": [
    {
     "data": {
      "text/html": [
       "<pre style=\"word-wrap: normal;white-space: pre;background: #fff0;line-height: 1.1;font-family: &quot;Courier New&quot;,Courier,monospace\">     ┌─────────┐\n",
       "q_0: ┤0        ├\n",
       "     │  U_1(θ) │\n",
       "q_1: ┤1        ├\n",
       "     └─────────┘</pre>"
      ],
      "text/plain": [
       "     ┌─────────┐\n",
       "q_0: ┤0        ├\n",
       "     │  U_1(θ) │\n",
       "q_1: ┤1        ├\n",
       "     └─────────┘"
      ]
     },
     "execution_count": 79,
     "metadata": {},
     "output_type": "execute_result"
    }
   ],
   "source": [
    "from qiskit.circuit import Parameter, Gate, ParameterVector\n",
    "\n",
    "#example for adding parameterized gate\n",
    "def U_H(theta):\n",
    "    circuit = QuantumCircuit(2)\n",
    "\n",
    "    # Global phase:\n",
    "    circuit.x(0)\n",
    "    circuit.u(np.pi, -theta, np.pi - theta, 0)\n",
    "\n",
    "    circuit.rxx(2 * theta, 0, 1)\n",
    "    circuit.ryy(2 * theta, 0, 1)\n",
    "    circuit.rzz(2 * theta, 0, 1)\n",
    "    return circuit.to_gate(label = 'U_1')\n",
    "\n",
    "theta = Parameter('θ')\n",
    "circ = QuantumCircuit(2)\n",
    "circ.append(U_H(theta), [0, 1])\n",
    "bound_circuit = circ.bind_parameters({ theta: np.pi / 16 })\n",
    "\n",
    "circ.draw()"
   ]
  },
  {
   "cell_type": "markdown",
   "metadata": {},
   "source": [
    "Generating 4x4 parameterized unitary"
   ]
  },
  {
   "cell_type": "code",
   "execution_count": 50,
   "metadata": {},
   "outputs": [],
   "source": [
    "# uses expession from https://arxiv.org/abs/1103.3408 \n",
    "\n",
    "from scipy.linalg import expm\n",
    "\n",
    "def P(i):\n",
    "    mat = np.zeros([4,4],'complex128')\n",
    "    mat[i,i] = 1\n",
    "    return mat\n",
    "\n",
    "def Y(k,l):\n",
    "    mat = np.zeros([4,4],'complex128')\n",
    "    mat[k,l] = -1j\n",
    "    mat[l,k] = 1j\n",
    "    return mat\n",
    "\n",
    "# return 4x4 unitary parameterized by (4^2)-1 = 15 angles in theta array\n",
    "def SU_4(theta):\n",
    "    mat = np.identity(4,'complex128')\n",
    "    for i in range(3):\n",
    "        for j in [0,1,2,3][i+1:]:\n",
    "            mat = mat @ (expm(1j*P(j)*theta[j,i]) @ expm(1j*Y(i,j)*theta[i,j]))\n",
    "    for i in range(4):\n",
    "        mat = mat @ expm(1j*P(i)*theta[i,i])\n",
    "    return mat"
   ]
  },
  {
   "cell_type": "code",
   "execution_count": 78,
   "metadata": {},
   "outputs": [],
   "source": [
    "from numpy.random import uniform\n",
    "# random theta, upper diagonal must be [0,pi/2] phase shift, lower diagonal [0,2pi] rotations.\n",
    "\n",
    "def rand_theta():\n",
    "    theta = np.zeros((4,4))\n",
    "    for i in range(4):\n",
    "        for j in [0,1,2,3][i:]:\n",
    "            theta[j,i] = uniform(0,2*np.pi)\n",
    "        for j in [0,1,2,3][:i]:\n",
    "            theta[j,i] = uniform(0,np.pi/2)\n",
    "    return theta"
   ]
  },
  {
   "cell_type": "code",
   "execution_count": 93,
   "metadata": {},
   "outputs": [
    {
     "data": {
      "text/plain": [
       "True"
      ]
     },
     "execution_count": 93,
     "metadata": {},
     "output_type": "execute_result"
    }
   ],
   "source": [
    "# check that it produces unitary, seems to be true\n",
    "def is_unitary(m):\n",
    "    return np.allclose(np.eye(m.shape[0]), m.H * m)\n",
    "M = np.matrix(SU_4(rand_theta()))\n",
    "is_unitary(M)"
   ]
  },
  {
   "cell_type": "markdown",
   "metadata": {},
   "source": [
    "It complains that parameters are not subscriptable!"
   ]
  },
  {
   "cell_type": "code",
   "execution_count": 104,
   "metadata": {},
   "outputs": [
    {
     "ename": "TypeError",
     "evalue": "'>' not supported between instances of 'tuple' and 'int'",
     "output_type": "error",
     "traceback": [
      "\u001b[1;31m---------------------------------------------------------------------------\u001b[0m",
      "\u001b[1;31mTypeError\u001b[0m                                 Traceback (most recent call last)",
      "\u001b[1;32mc:\\Users\\halwa\\Desktop\\2022 spring\\physics 160 Quantum Information\\Qiskit\\basis enhanced 2gram.ipynb Cell 7'\u001b[0m in \u001b[0;36m<cell line: 15>\u001b[1;34m()\u001b[0m\n\u001b[0;32m     <a href='vscode-notebook-cell:/c%3A/Users/halwa/Desktop/2022%20spring/physics%20160%20Quantum%20Information/Qiskit/basis%20enhanced%202gram.ipynb#ch0000019?line=12'>13</a>\u001b[0m theta1 \u001b[39m=\u001b[39m ParameterVector(\u001b[39m'\u001b[39m\u001b[39mlamda1\u001b[39m\u001b[39m'\u001b[39m,\u001b[39m16\u001b[39m)\n\u001b[0;32m     <a href='vscode-notebook-cell:/c%3A/Users/halwa/Desktop/2022%20spring/physics%20160%20Quantum%20Information/Qiskit/basis%20enhanced%202gram.ipynb#ch0000019?line=13'>14</a>\u001b[0m circ \u001b[39m=\u001b[39m QuantumCircuit(\u001b[39m8\u001b[39m)\n\u001b[1;32m---> <a href='vscode-notebook-cell:/c%3A/Users/halwa/Desktop/2022%20spring/physics%20160%20Quantum%20Information/Qiskit/basis%20enhanced%202gram.ipynb#ch0000019?line=14'>15</a>\u001b[0m circ\u001b[39m.\u001b[39mappend(controlled_U(\u001b[39m1\u001b[39;49m,theta1), [\u001b[39m0\u001b[39m, \u001b[39m1\u001b[39m, \u001b[39m4\u001b[39m, \u001b[39m5\u001b[39m])\n\u001b[0;32m     <a href='vscode-notebook-cell:/c%3A/Users/halwa/Desktop/2022%20spring/physics%20160%20Quantum%20Information/Qiskit/basis%20enhanced%202gram.ipynb#ch0000019?line=15'>16</a>\u001b[0m \u001b[39m#bound_circuit = circ.bind_parameters({ theta: np.pi / 16 })\u001b[39;00m\n\u001b[0;32m     <a href='vscode-notebook-cell:/c%3A/Users/halwa/Desktop/2022%20spring/physics%20160%20Quantum%20Information/Qiskit/basis%20enhanced%202gram.ipynb#ch0000019?line=17'>18</a>\u001b[0m circ\u001b[39m.\u001b[39mdraw()\n",
      "\u001b[1;32mc:\\Users\\halwa\\Desktop\\2022 spring\\physics 160 Quantum Information\\Qiskit\\basis enhanced 2gram.ipynb Cell 7'\u001b[0m in \u001b[0;36mcontrolled_U\u001b[1;34m(k, theta)\u001b[0m\n\u001b[0;32m      <a href='vscode-notebook-cell:/c%3A/Users/halwa/Desktop/2022%20spring/physics%20160%20Quantum%20Information/Qiskit/basis%20enhanced%202gram.ipynb#ch0000019?line=3'>4</a>\u001b[0m \u001b[39mdef\u001b[39;00m \u001b[39mcontrolled_U\u001b[39m(k,theta):\n\u001b[0;32m      <a href='vscode-notebook-cell:/c%3A/Users/halwa/Desktop/2022%20spring/physics%20160%20Quantum%20Information/Qiskit/basis%20enhanced%202gram.ipynb#ch0000019?line=4'>5</a>\u001b[0m     circuit \u001b[39m=\u001b[39m QuantumCircuit(\u001b[39m4\u001b[39m)\n\u001b[1;32m----> <a href='vscode-notebook-cell:/c%3A/Users/halwa/Desktop/2022%20spring/physics%20160%20Quantum%20Information/Qiskit/basis%20enhanced%202gram.ipynb#ch0000019?line=5'>6</a>\u001b[0m     mat \u001b[39m=\u001b[39m np\u001b[39m.\u001b[39mkron(P(k),SU_4(theta))\n\u001b[0;32m      <a href='vscode-notebook-cell:/c%3A/Users/halwa/Desktop/2022%20spring/physics%20160%20Quantum%20Information/Qiskit/basis%20enhanced%202gram.ipynb#ch0000019?line=6'>7</a>\u001b[0m     \u001b[39mfor\u001b[39;00m i \u001b[39min\u001b[39;00m (i \u001b[39mfor\u001b[39;00m i \u001b[39min\u001b[39;00m [\u001b[39m0\u001b[39m,\u001b[39m1\u001b[39m,\u001b[39m2\u001b[39m,\u001b[39m3\u001b[39m] \u001b[39mif\u001b[39;00m i \u001b[39m!=\u001b[39m k):\n\u001b[0;32m      <a href='vscode-notebook-cell:/c%3A/Users/halwa/Desktop/2022%20spring/physics%20160%20Quantum%20Information/Qiskit/basis%20enhanced%202gram.ipynb#ch0000019?line=7'>8</a>\u001b[0m         mat \u001b[39m=\u001b[39m mat \u001b[39m+\u001b[39m np\u001b[39m.\u001b[39mkron(P(i),np\u001b[39m.\u001b[39meye(\u001b[39m4\u001b[39m)) \n",
      "\u001b[1;32mc:\\Users\\halwa\\Desktop\\2022 spring\\physics 160 Quantum Information\\Qiskit\\basis enhanced 2gram.ipynb Cell 4'\u001b[0m in \u001b[0;36mSU_4\u001b[1;34m(theta)\u001b[0m\n\u001b[0;32m     <a href='vscode-notebook-cell:/c%3A/Users/halwa/Desktop/2022%20spring/physics%20160%20Quantum%20Information/Qiskit/basis%20enhanced%202gram.ipynb#ch0000017?line=17'>18</a>\u001b[0m \u001b[39mfor\u001b[39;00m i \u001b[39min\u001b[39;00m \u001b[39mrange\u001b[39m(\u001b[39m3\u001b[39m):\n\u001b[0;32m     <a href='vscode-notebook-cell:/c%3A/Users/halwa/Desktop/2022%20spring/physics%20160%20Quantum%20Information/Qiskit/basis%20enhanced%202gram.ipynb#ch0000017?line=18'>19</a>\u001b[0m     \u001b[39mfor\u001b[39;00m j \u001b[39min\u001b[39;00m [\u001b[39m0\u001b[39m,\u001b[39m1\u001b[39m,\u001b[39m2\u001b[39m,\u001b[39m3\u001b[39m][i\u001b[39m+\u001b[39m\u001b[39m1\u001b[39m:]:\n\u001b[1;32m---> <a href='vscode-notebook-cell:/c%3A/Users/halwa/Desktop/2022%20spring/physics%20160%20Quantum%20Information/Qiskit/basis%20enhanced%202gram.ipynb#ch0000017?line=19'>20</a>\u001b[0m         mat \u001b[39m=\u001b[39m mat \u001b[39m@\u001b[39m (expm(\u001b[39m1\u001b[39mj\u001b[39m*\u001b[39mP(j)\u001b[39m*\u001b[39mtheta[j,i]) \u001b[39m@\u001b[39m expm(\u001b[39m1\u001b[39mj\u001b[39m*\u001b[39mY(i,j)\u001b[39m*\u001b[39mtheta[i,j]))\n\u001b[0;32m     <a href='vscode-notebook-cell:/c%3A/Users/halwa/Desktop/2022%20spring/physics%20160%20Quantum%20Information/Qiskit/basis%20enhanced%202gram.ipynb#ch0000017?line=20'>21</a>\u001b[0m \u001b[39mfor\u001b[39;00m i \u001b[39min\u001b[39;00m \u001b[39mrange\u001b[39m(\u001b[39m4\u001b[39m):\n\u001b[0;32m     <a href='vscode-notebook-cell:/c%3A/Users/halwa/Desktop/2022%20spring/physics%20160%20Quantum%20Information/Qiskit/basis%20enhanced%202gram.ipynb#ch0000017?line=21'>22</a>\u001b[0m     mat \u001b[39m=\u001b[39m mat \u001b[39m@\u001b[39m expm(\u001b[39m1\u001b[39mj\u001b[39m*\u001b[39mP(i)\u001b[39m*\u001b[39mtheta[i,i])\n",
      "File \u001b[1;32m~\\AppData\\Local\\Programs\\Python\\Python310\\lib\\site-packages\\qiskit\\circuit\\parametervector.py:98\u001b[0m, in \u001b[0;36mParameterVector.__getitem__\u001b[1;34m(self, key)\u001b[0m\n\u001b[0;32m     <a href='file:///c%3A/Users/halwa/AppData/Local/Programs/Python/Python310/lib/site-packages/qiskit/circuit/parametervector.py?line=94'>95</a>\u001b[0m     start, stop, step \u001b[39m=\u001b[39m key\u001b[39m.\u001b[39mindices(\u001b[39mself\u001b[39m\u001b[39m.\u001b[39m_size)\n\u001b[0;32m     <a href='file:///c%3A/Users/halwa/AppData/Local/Programs/Python/Python310/lib/site-packages/qiskit/circuit/parametervector.py?line=95'>96</a>\u001b[0m     \u001b[39mreturn\u001b[39;00m \u001b[39mself\u001b[39m\u001b[39m.\u001b[39mparams[start:stop:step]\n\u001b[1;32m---> <a href='file:///c%3A/Users/halwa/AppData/Local/Programs/Python/Python310/lib/site-packages/qiskit/circuit/parametervector.py?line=97'>98</a>\u001b[0m \u001b[39mif\u001b[39;00m key \u001b[39m>\u001b[39;49m \u001b[39mself\u001b[39;49m\u001b[39m.\u001b[39;49m_size:\n\u001b[0;32m     <a href='file:///c%3A/Users/halwa/AppData/Local/Programs/Python/Python310/lib/site-packages/qiskit/circuit/parametervector.py?line=98'>99</a>\u001b[0m     \u001b[39mraise\u001b[39;00m \u001b[39mIndexError\u001b[39;00m(\u001b[39mf\u001b[39m\u001b[39m\"\u001b[39m\u001b[39mIndex out of range: \u001b[39m\u001b[39m{\u001b[39;00mkey\u001b[39m}\u001b[39;00m\u001b[39m > \u001b[39m\u001b[39m{\u001b[39;00m\u001b[39mself\u001b[39m\u001b[39m.\u001b[39m_size\u001b[39m}\u001b[39;00m\u001b[39m\"\u001b[39m)\n\u001b[0;32m    <a href='file:///c%3A/Users/halwa/AppData/Local/Programs/Python/Python310/lib/site-packages/qiskit/circuit/parametervector.py?line=99'>100</a>\u001b[0m \u001b[39mreturn\u001b[39;00m \u001b[39mself\u001b[39m\u001b[39m.\u001b[39mparams[key]\n",
      "\u001b[1;31mTypeError\u001b[0m: '>' not supported between instances of 'tuple' and 'int'"
     ]
    }
   ],
   "source": [
    "from qiskit.quantum_info.operators import Operator, Pauli\n",
    "\n",
    "# function to create controlled gate, k is position of control bits, theta is unitary parameters\n",
    "def controlled_U(k,theta):\n",
    "    circuit = QuantumCircuit(4)\n",
    "    mat = np.kron(P(k),SU_4(theta))\n",
    "    for i in (i for i in [0,1,2,3] if i != k):\n",
    "        mat = mat + np.kron(P(i),np.eye(4)) \n",
    "    gate = UnitaryGate(mat)\n",
    "    return gate\n",
    "\n",
    "# adding gate to circuit with parameters (8 qubits = two sequences)\n",
    "theta1 = ParameterVector('lamda1',16)\n",
    "circ = QuantumCircuit(8)\n",
    "circ.append(controlled_U(1,theta1), [0, 1, 4, 5])\n",
    "#bound_circuit = circ.bind_parameters({ theta: np.pi / 16 })\n",
    "\n",
    "circ.draw()\n"
   ]
  },
  {
   "cell_type": "markdown",
   "metadata": {},
   "source": [
    "## Ignore all code below this point"
   ]
  },
  {
   "cell_type": "code",
   "execution_count": 83,
   "metadata": {},
   "outputs": [
    {
     "name": "stdout",
     "output_type": "stream",
     "text": [
      "0\n",
      "2\n",
      "3\n"
     ]
    }
   ],
   "source": [
    "gen = (x for x in [0,1,2,3] if x != 1)\n",
    "\n",
    "for x in (x for x in [0,1,2,3] if x != 1):\n",
    "    print(x)"
   ]
  },
  {
   "cell_type": "code",
   "execution_count": null,
   "metadata": {},
   "outputs": [],
   "source": [
    "k_ = 4                        # number of hidden states \n",
    "k = int(np.ceil(np.log2(k_))) # first wire qubits\n",
    "s_ = 4                        # number of observable states\n",
    "s = int(np.ceil(np.log2(s_))) # second wire qubits\n",
    "n = 2                         # number of variables\n",
    "\n",
    "num_qubits = n*(k+s)\n",
    "gap = k+s\n",
    "nums = np.arange(num_qubits)"
   ]
  },
  {
   "cell_type": "code",
   "execution_count": 189,
   "metadata": {},
   "outputs": [],
   "source": [
    "def cont_gate():\n",
    "    mat = unitary_group.rvs(k_)\n",
    "    g = UnitaryGate(mat).control(k)\n",
    "    return g\n",
    "\n",
    "def single_gate(m):\n",
    "    mat = unitary_group.rvs(m)\n",
    "    g = UnitaryGate(mat)\n",
    "    return g"
   ]
  },
  {
   "cell_type": "code",
   "execution_count": 148,
   "metadata": {},
   "outputs": [],
   "source": [
    "# integer to binary representation in array form\n",
    "def bin_array(num):\n",
    "    return np.array(list(np.binary_repr(num).zfill(2))).astype(np.int8)"
   ]
  },
  {
   "cell_type": "code",
   "execution_count": 7,
   "metadata": {},
   "outputs": [
    {
     "ename": "NameError",
     "evalue": "name 'num_qubits' is not defined",
     "output_type": "error",
     "traceback": [
      "\u001b[1;31m---------------------------------------------------------------------------\u001b[0m",
      "\u001b[1;31mNameError\u001b[0m                                 Traceback (most recent call last)",
      "\u001b[1;32mc:\\Users\\halwa\\Desktop\\2022 spring\\physics 160 Quantum Information\\Qiskit\\basis enhanced 2gram.ipynb Cell 8'\u001b[0m in \u001b[0;36m<cell line: 1>\u001b[1;34m()\u001b[0m\n\u001b[1;32m----> <a href='vscode-notebook-cell:/c%3A/Users/halwa/Desktop/2022%20spring/physics%20160%20Quantum%20Information/Qiskit/basis%20enhanced%202gram.ipynb#ch0000006?line=0'>1</a>\u001b[0m nums \u001b[39m=\u001b[39m np\u001b[39m.\u001b[39marange(num_qubits)\n\u001b[0;32m      <a href='vscode-notebook-cell:/c%3A/Users/halwa/Desktop/2022%20spring/physics%20160%20Quantum%20Information/Qiskit/basis%20enhanced%202gram.ipynb#ch0000006?line=2'>3</a>\u001b[0m \u001b[39mdef\u001b[39;00m \u001b[39madd_controlled_gates\u001b[39m(c):\n\u001b[0;32m      <a href='vscode-notebook-cell:/c%3A/Users/halwa/Desktop/2022%20spring/physics%20160%20Quantum%20Information/Qiskit/basis%20enhanced%202gram.ipynb#ch0000006?line=3'>4</a>\u001b[0m     \u001b[39m# getting indexes\u001b[39;00m\n\u001b[0;32m      <a href='vscode-notebook-cell:/c%3A/Users/halwa/Desktop/2022%20spring/physics%20160%20Quantum%20Information/Qiskit/basis%20enhanced%202gram.ipynb#ch0000006?line=4'>5</a>\u001b[0m     c,t \u001b[39m=\u001b[39m c\u001b[39m*\u001b[39mgap, (c\u001b[39m+\u001b[39m\u001b[39m1\u001b[39m)\u001b[39m*\u001b[39mgap\n",
      "\u001b[1;31mNameError\u001b[0m: name 'num_qubits' is not defined"
     ]
    }
   ],
   "source": [
    "nums = np.arange(num_qubits)\n",
    "\n",
    "def add_controlled_gates(c):\n",
    "    # getting indexes\n",
    "    c,t = c*gap, (c+1)*gap\n",
    "    control = (nums[c:])[:k]\n",
    "    target = (nums[(t+k):])[:s]\n",
    "    indexes = np.concatenate((control,target))\n",
    "\n",
    "    # apply multi target control gates\n",
    "    for i in range(k_):\n",
    "        b = bin_array(i)\n",
    "        for j in range(k):\n",
    "            if b[j] == 1:\n",
    "                qc.x(c+j)\n",
    "        qc.append(cont_gate(), indexes)\n",
    "        for j in b:\n",
    "            if b[j] == 1:\n",
    "                qc.x(c+j)\n",
    "\n",
    "def add_prior(t):\n",
    "    qc.append(single_gate(k),t) \n",
    "\n",
    "def add_basischange(t):\n",
    "    qc.append(single_gate(n),t)\n",
    "\n",
    "def build_control_gate():\n",
    "    circ = QuantumCircuit(2*k)\n",
    "\n",
    "    def x_gates(b):\n",
    "        for j in b:\n",
    "            if j == 1:\n",
    "                circ.x(j)\n",
    "\n",
    "    for i in range(k_):\n",
    "        b = bin_array(i)\n",
    "        x_gates(b)\n",
    "        qc.append(cont_gate(), [0,1,2,3])\n",
    "        x_gates(b)\n",
    "    \n",
    "    g = circuit_to_gate(circ)\n",
    "    return g\n"
   ]
  },
  {
   "cell_type": "code",
   "execution_count": 243,
   "metadata": {},
   "outputs": [],
   "source": []
  }
 ],
 "metadata": {
  "interpreter": {
   "hash": "ecf6bd02a2fbd3d9f1dfbfe7574426b150f82baa8c9090252b3b196018388df7"
  },
  "kernelspec": {
   "display_name": "Python 3.10.4 64-bit",
   "language": "python",
   "name": "python3"
  },
  "language_info": {
   "codemirror_mode": {
    "name": "ipython",
    "version": 3
   },
   "file_extension": ".py",
   "mimetype": "text/x-python",
   "name": "python",
   "nbconvert_exporter": "python",
   "pygments_lexer": "ipython3",
   "version": "3.10.4"
  },
  "orig_nbformat": 4
 },
 "nbformat": 4,
 "nbformat_minor": 2
}
